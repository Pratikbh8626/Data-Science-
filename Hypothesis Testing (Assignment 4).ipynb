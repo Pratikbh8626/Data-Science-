{
 "cells": [
  {
   "cell_type": "markdown",
   "id": "3155d1fe-73d5-4c4e-818a-b873f08b8917",
   "metadata": {},
   "source": [
    "## CHI-SQUARE TEST"
   ]
  },
  {
   "cell_type": "code",
   "execution_count": 2,
   "id": "40f7da27-7da9-4fcb-91ad-4a70ad12a319",
   "metadata": {},
   "outputs": [],
   "source": [
    "import scipy.stats as stats"
   ]
  },
  {
   "cell_type": "code",
   "execution_count": 3,
   "id": "7570003e-b0c8-48ef-bbc6-6500042f56b6",
   "metadata": {},
   "outputs": [],
   "source": [
    "import pandas as pd\n",
    "import seaborn as sns\n",
    "import numpy as np\n"
   ]
  },
  {
   "cell_type": "code",
   "execution_count": 4,
   "id": "1261bb87-f94d-4db9-83c1-411be82d0819",
   "metadata": {},
   "outputs": [],
   "source": [
    "data = {\n",
    "    \"Satisfaction Level\": [\"Very Satisfied\", \"Satisfied\", \"Neutral\", \"Unsatisfied\", \"Very Unsatisfied\",\"Total\"],\n",
    "    \"Smart Thermostat\": [50, 80, 60, 30, 20,240],\n",
    "    \"Smart Light\": [70, 100, 90, 50, 50,360],\n",
    "    \"Total\" : [120,180,150,80,70,600]\n",
    "}\n",
    "df = pd.DataFrame(data)"
   ]
  },
  {
   "cell_type": "code",
   "execution_count": 5,
   "id": "4800b989-6601-4115-95dd-b7bd6928c3ca",
   "metadata": {},
   "outputs": [
    {
     "data": {
      "text/html": [
       "<div>\n",
       "<style scoped>\n",
       "    .dataframe tbody tr th:only-of-type {\n",
       "        vertical-align: middle;\n",
       "    }\n",
       "\n",
       "    .dataframe tbody tr th {\n",
       "        vertical-align: top;\n",
       "    }\n",
       "\n",
       "    .dataframe thead th {\n",
       "        text-align: right;\n",
       "    }\n",
       "</style>\n",
       "<table border=\"1\" class=\"dataframe\">\n",
       "  <thead>\n",
       "    <tr style=\"text-align: right;\">\n",
       "      <th></th>\n",
       "      <th>Satisfaction Level</th>\n",
       "      <th>Smart Thermostat</th>\n",
       "      <th>Smart Light</th>\n",
       "      <th>Total</th>\n",
       "    </tr>\n",
       "  </thead>\n",
       "  <tbody>\n",
       "    <tr>\n",
       "      <th>0</th>\n",
       "      <td>Very Satisfied</td>\n",
       "      <td>50</td>\n",
       "      <td>70</td>\n",
       "      <td>120</td>\n",
       "    </tr>\n",
       "    <tr>\n",
       "      <th>1</th>\n",
       "      <td>Satisfied</td>\n",
       "      <td>80</td>\n",
       "      <td>100</td>\n",
       "      <td>180</td>\n",
       "    </tr>\n",
       "    <tr>\n",
       "      <th>2</th>\n",
       "      <td>Neutral</td>\n",
       "      <td>60</td>\n",
       "      <td>90</td>\n",
       "      <td>150</td>\n",
       "    </tr>\n",
       "    <tr>\n",
       "      <th>3</th>\n",
       "      <td>Unsatisfied</td>\n",
       "      <td>30</td>\n",
       "      <td>50</td>\n",
       "      <td>80</td>\n",
       "    </tr>\n",
       "    <tr>\n",
       "      <th>4</th>\n",
       "      <td>Very Unsatisfied</td>\n",
       "      <td>20</td>\n",
       "      <td>50</td>\n",
       "      <td>70</td>\n",
       "    </tr>\n",
       "    <tr>\n",
       "      <th>5</th>\n",
       "      <td>Total</td>\n",
       "      <td>240</td>\n",
       "      <td>360</td>\n",
       "      <td>600</td>\n",
       "    </tr>\n",
       "  </tbody>\n",
       "</table>\n",
       "</div>"
      ],
      "text/plain": [
       "  Satisfaction Level  Smart Thermostat  Smart Light  Total\n",
       "0     Very Satisfied                50           70    120\n",
       "1          Satisfied                80          100    180\n",
       "2            Neutral                60           90    150\n",
       "3        Unsatisfied                30           50     80\n",
       "4   Very Unsatisfied                20           50     70\n",
       "5              Total               240          360    600"
      ]
     },
     "execution_count": 5,
     "metadata": {},
     "output_type": "execute_result"
    }
   ],
   "source": [
    "df.head(6)"
   ]
  },
  {
   "cell_type": "markdown",
   "id": "9a20006f-1220-48ba-b7a3-c033f1a1f1db",
   "metadata": {},
   "source": [
    "## State the Hypotheses"
   ]
  },
  {
   "cell_type": "code",
   "execution_count": 10,
   "id": "c347ec9b-2cdf-4546-9e0d-cc20dc561b73",
   "metadata": {},
   "outputs": [],
   "source": [
    "# Extracting observed values\n",
    "observed_values = np.array([\n",
    "    [50, 70],\n",
    "    [80, 100],\n",
    "    [60, 90],\n",
    "    [30, 50],\n",
    "    [20, 50]\n",
    "])"
   ]
  },
  {
   "cell_type": "code",
   "execution_count": 11,
   "id": "6cfa196f-1a27-4ed0-ab3e-9ccb873e6ced",
   "metadata": {},
   "outputs": [
    {
     "name": "stdout",
     "output_type": "stream",
     "text": [
      "Observed values : [[ 50  70]\n",
      " [ 80 100]\n",
      " [ 60  90]\n",
      " [ 30  50]\n",
      " [ 20  50]]\n"
     ]
    }
   ],
   "source": [
    "print(\"Observed values :\",observed_values)"
   ]
  },
  {
   "cell_type": "code",
   "execution_count": 19,
   "id": "be2b1f2e-988f-4384-a9e8-1e362b25c76e",
   "metadata": {},
   "outputs": [],
   "source": [
    "# Perform Chi-Square Test for independence\n",
    "\n",
    "chi2_stat, p_value, dof, expected = chi2_contingency(observed_values)"
   ]
  },
  {
   "cell_type": "code",
   "execution_count": 20,
   "id": "147ea377-70cb-42ad-8e1f-8b14b2d84f8a",
   "metadata": {},
   "outputs": [],
   "source": [
    "from scipy.stats import chi2_contingency , chi2"
   ]
  },
  {
   "cell_type": "code",
   "execution_count": 21,
   "id": "4796f977-5564-43b5-a6af-059afa64b104",
   "metadata": {},
   "outputs": [
    {
     "name": "stdout",
     "output_type": "stream",
     "text": [
      "\n",
      "Chi-Square Test Results:\n",
      "Chi-Square Statistic: 5.638227513227513\n",
      "P-Value: 0.22784371130697179\n",
      "Degrees of Freedom: 4\n",
      "Expected Frequencies:\n",
      "[[ 48.  72.]\n",
      " [ 72. 108.]\n",
      " [ 60.  90.]\n",
      " [ 32.  48.]\n",
      " [ 28.  42.]]\n"
     ]
    }
   ],
   "source": [
    "# Display results of the test\n",
    "\n",
    "print(\"\\nChi-Square Test Results:\")\n",
    "print(f\"Chi-Square Statistic: {chi2_stat}\")\n",
    "print(f\"P-Value: {p_value}\")\n",
    "print(f\"Degrees of Freedom: {dof}\")\n",
    "print(\"Expected Frequencies:\")\n",
    "print(expected)"
   ]
  },
  {
   "cell_type": "code",
   "execution_count": 22,
   "id": "471c423c-9235-4fd6-a526-c82b0939e8a5",
   "metadata": {},
   "outputs": [
    {
     "name": "stdout",
     "output_type": "stream",
     "text": [
      "Chi-Square Statistic (Manual): 5.638227513227513\n"
     ]
    }
   ],
   "source": [
    "# Contingency table data\n",
    "observed = np.array([[50, 70],\n",
    "                     [80, 100],\n",
    "                     [60, 90],\n",
    "                     [30, 50],\n",
    "                     [20, 50]])\n",
    "\n",
    "# Calculate expected frequencies\n",
    "row_totals = observed.sum(axis=1)\n",
    "col_totals = observed.sum(axis=0)\n",
    "total = observed.sum()\n",
    "\n",
    "expected = np.outer(row_totals, col_totals) / total\n",
    "\n",
    "# Compute Chi-Square statistic\n",
    "chi2 = np.sum((observed - expected)**2 / expected)\n",
    "\n",
    "print(\"Chi-Square Statistic (Manual):\", chi2)"
   ]
  },
  {
   "cell_type": "code",
   "execution_count": 23,
   "id": "d79e5b5d-b3d8-4155-9524-a6f9aa80a869",
   "metadata": {},
   "outputs": [
    {
     "name": "stdout",
     "output_type": "stream",
     "text": [
      "Critical Value: 9.487729036781154\n"
     ]
    }
   ],
   "source": [
    "from scipy.stats import chi2\n",
    "\n",
    "alpha = 0.05\n",
    "df = 4\n",
    "\n",
    "critical_value = chi2.ppf(1 - alpha, df)\n",
    "\n",
    "print(\"Critical Value:\", critical_value)"
   ]
  },
  {
   "cell_type": "code",
   "execution_count": 24,
   "id": "6f234dd0-bbb4-44b1-9710-989eddfc98e2",
   "metadata": {},
   "outputs": [
    {
     "name": "stdout",
     "output_type": "stream",
     "text": [
      "Fail to reject the null hypothesis. There is no significant association between device type and satisfaction level.\n"
     ]
    }
   ],
   "source": [
    "# Chi-Square statistic from earlier calculation\n",
    "chi2_statistic = 5.638227513227513  \n",
    "\n",
    "# Critical value from earlier calculation\n",
    "critical_value = 9.487729036781154  \n",
    "\n",
    "# Make a decision\n",
    "if chi2_statistic > critical_value:\n",
    "    print(\"Reject the null hypothesis. There is a significant association between device type and satisfaction level.\")\n",
    "else:\n",
    "    print(\"Fail to reject the null hypothesis. There is no significant association between device type and satisfaction level.\")"
   ]
  },
  {
   "cell_type": "markdown",
   "id": "732b05ca-888a-470a-9ab7-1201b4daf94f",
   "metadata": {},
   "source": [
    "## Conclusion"
   ]
  },
  {
   "cell_type": "code",
   "execution_count": 25,
   "id": "768f0e6e-67dd-4d9a-b075-156af01ce219",
   "metadata": {},
   "outputs": [],
   "source": [
    "# Based on the Chi-Square test, the calculated chi-square statistic is 5.64, which is less than the critical value of 9.49 at the 5% significance level.\n",
    "\n",
    "# Therefore, we fail to reject the null hypothesis.\n",
    "\n",
    "# This means that there is no statistically significant association between device type and satisfaction level\n"
   ]
  },
  {
   "cell_type": "markdown",
   "id": "a75cc900-56f8-4990-8423-392e49d4ca17",
   "metadata": {},
   "source": [
    "## HYPOTHESIS TESTING"
   ]
  },
  {
   "cell_type": "markdown",
   "id": "db43fe14-d041-43bd-a255-6a1470ae42da",
   "metadata": {},
   "source": [
    "### State the hypothesis statement"
   ]
  },
  {
   "cell_type": "code",
   "execution_count": 33,
   "id": "5487fbb0-344e-4854-a724-7d3f9dc4920b",
   "metadata": {},
   "outputs": [],
   "source": [
    "from scipy.stats import norm\n",
    "\n",
    "# Given data\n",
    "# Mean weekly cost observed from the sample of 25 restaurants\n",
    "sample_mean = 3050  \n",
    "\n",
    "# Theoretical mean weekly cost based on the model\n",
    "theoretical_mean = 1000 + 5 * 600  \n",
    "\n",
    "# Sample Size in given example\n",
    "sample_size = 25\n",
    "\n",
    "# Mean number of units produced in a week\n",
    "population_mean = 600 \n",
    "\n",
    "# Standard deviation of number of units produced in a week\n",
    "population_std = 25  "
   ]
  },
  {
   "cell_type": "code",
   "execution_count": 37,
   "id": "66084872-f930-4ba8-9423-a5b0cde7db47",
   "metadata": {},
   "outputs": [],
   "source": [
    "# Calculate the standard error of the sample mean\n",
    "standard_error = population_std / (sample_size ** 0.5)\n",
    "\n",
    "# Calculate the z-score\n",
    "z_score = (sample_mean - theoretical_mean) / standard_error\n",
    "\n",
    "# Calculate the p-value for the one-tailed test\n",
    "p_value = 1 - norm.cdf(z_score)"
   ]
  },
  {
   "cell_type": "code",
   "execution_count": 38,
   "id": "ecd7563a-b137-4072-af62-e2f5e904a502",
   "metadata": {},
   "outputs": [],
   "source": [
    "# Set the significance level\n",
    "alpha = 0.05"
   ]
  },
  {
   "cell_type": "code",
   "execution_count": 39,
   "id": "1c666b13-b71a-4bda-81d3-6fce429defcb",
   "metadata": {},
   "outputs": [
    {
     "name": "stdout",
     "output_type": "stream",
     "text": [
      "Null Hypothesis (H0): The mean weekly operating cost is equal to the theoretical model's prediction.\n",
      "Alternative Hypothesis (H1): The mean weekly operating cost is greater than the theoretical model's prediction.\n"
     ]
    }
   ],
   "source": [
    "# State the hypotheses\n",
    "print(\"Null Hypothesis (H0): The mean weekly operating cost is equal to the theoretical model's prediction.\")\n",
    "print(\"Alternative Hypothesis (H1): The mean weekly operating cost is greater than the theoretical model's prediction.\")"
   ]
  },
  {
   "cell_type": "code",
   "execution_count": 50,
   "id": "6ce05208-220c-40bf-a716-964cf0c2bf15",
   "metadata": {},
   "outputs": [
    {
     "name": "stdout",
     "output_type": "stream",
     "text": [
      "Fail to reject the null hypothesis. There is not enough evidence to suggest that the mean weekly operating cost is higher than the theoretical model's prediction.\n"
     ]
    }
   ],
   "source": [
    "# Make a decision based on the p-value\n",
    "if p_value < alpha:\n",
    "    print(\"Reject the null hypothesis. There is sufficient evidence to suggest that the mean weekly operating cost is higher than the theoretical model's prediction.\")\n",
    "else:\n",
    "    print(\"Fail to reject the null hypothesis. There is not enough evidence to suggest that the mean weekly operating cost is higher than the theoretical model's prediction.\")"
   ]
  },
  {
   "cell_type": "markdown",
   "id": "5491ff24-b34d-40e8-a55b-804e329c71ad",
   "metadata": {},
   "source": [
    "### Calculate the Test Statistic"
   ]
  },
  {
   "cell_type": "code",
   "execution_count": 40,
   "id": "22251003-7127-4350-a2a9-30585ec87a15",
   "metadata": {},
   "outputs": [],
   "source": [
    "import scipy.stats as stats\n",
    "\n",
    "# Given data\n",
    "sample_mean = 3050  # Sample mean weekly cost\n",
    "theoretical_mean = 1000 + 5 * 600  # Theoretical mean weekly cost based on the model\n",
    "population_std = 5 * 25  # Standard deviation of the population\n",
    "sample_size = 25  # Sample size"
   ]
  },
  {
   "cell_type": "code",
   "execution_count": 41,
   "id": "e3db97f1-622b-4d7b-a7ec-e3733d478f2f",
   "metadata": {},
   "outputs": [
    {
     "name": "stdout",
     "output_type": "stream",
     "text": [
      "Test Statistic (t): -38.0\n"
     ]
    }
   ],
   "source": [
    "# Calculate the standard error\n",
    "standard_error = population_std / (sample_size ** 0.5)\n",
    "\n",
    "# Calculate the test statistic (t)\n",
    "t_statistic = (sample_mean - theoretical_mean) / standard_error\n",
    "\n",
    "print(\"Test Statistic (t):\", t_statistic)"
   ]
  },
  {
   "cell_type": "code",
   "execution_count": 42,
   "id": "38867fda-51da-40f3-a39c-d803f80584e5",
   "metadata": {},
   "outputs": [],
   "source": [
    "# Degrees of freedom\n",
    "df = sample_size - 1"
   ]
  },
  {
   "cell_type": "code",
   "execution_count": 51,
   "id": "7ce3b0a0-217f-4437-9862-8f1d1ed2676f",
   "metadata": {},
   "outputs": [
    {
     "name": "stdout",
     "output_type": "stream",
     "text": [
      "Critical Value (t_critical): 1.7108820799094275\n"
     ]
    }
   ],
   "source": [
    "# Calculate the critical value\n",
    "alpha = 0.05  # Significance level\n",
    "critical_value = stats.t.ppf(1 - alpha, df)\n",
    "\n",
    "print(\"Critical Value (t_critical):\", critical_value)"
   ]
  },
  {
   "cell_type": "markdown",
   "id": "22290230-48e9-4d39-a63d-7c3e121fb483",
   "metadata": {},
   "source": [
    "### Determine the Critical Value"
   ]
  },
  {
   "cell_type": "code",
   "execution_count": 44,
   "id": "53891860-1182-420a-9299-1ce6263a98bd",
   "metadata": {},
   "outputs": [
    {
     "name": "stdout",
     "output_type": "stream",
     "text": [
      "Critical Value (Z_critical): 1.6448536269514722\n"
     ]
    }
   ],
   "source": [
    "alpha = 0.05  # Significance level\n",
    "critical_value = norm.ppf(1 - alpha) \n",
    "print(\"Critical Value (Z_critical):\", critical_value)"
   ]
  },
  {
   "cell_type": "markdown",
   "id": "e6bd7b4e-7c29-46e4-af50-804cd977d12f",
   "metadata": {},
   "source": [
    "### Make Decision"
   ]
  },
  {
   "cell_type": "code",
   "execution_count": 48,
   "id": "b22f6277-21ca-4ff9-a7e8-ba55e200072f",
   "metadata": {},
   "outputs": [],
   "source": [
    "# Test statistic and critical value from previous calculations\n",
    "test_statistic = -38.0\n",
    "critical_value = 1.645  \n",
    "# Significance level (alpha)\n",
    "alpha = 0.05\n",
    "\n"
   ]
  },
  {
   "cell_type": "code",
   "execution_count": 49,
   "id": "3493eef7-eeb2-43ae-9f02-1fa7a82132b3",
   "metadata": {},
   "outputs": [
    {
     "name": "stdout",
     "output_type": "stream",
     "text": [
      "Fail to reject the null hypothesis. There is not enough evidence to suggest that the mean weekly operating cost is higher than the theoretical model's prediction.\n"
     ]
    }
   ],
   "source": [
    "# Make a decision\n",
    "if test_statistic > critical_value:\n",
    "    print(\"Reject the null hypothesis. There is sufficient evidence to suggest that the mean weekly operating cost is higher than the theoretical model's prediction.\")\n",
    "else:\n",
    "    print(\"Fail to reject the null hypothesis. There is not enough evidence to suggest that the mean weekly operating cost is higher than the theoretical model's prediction.\")"
   ]
  },
  {
   "cell_type": "markdown",
   "id": "ca5a89ac-e0e6-418d-8a72-d242ebd9befc",
   "metadata": {},
   "source": [
    "## Conclusion"
   ]
  },
  {
   "cell_type": "code",
   "execution_count": 47,
   "id": "97c61b01-9cfa-477c-ac85-74defea07f77",
   "metadata": {},
   "outputs": [],
   "source": [
    "# We fail to reject the null hypothesis.\n",
    "\n",
    "# This means there is not enough evidence to say that the mean weekly operating cost is higher than what the theoretical model predicts."
   ]
  }
 ],
 "metadata": {
  "kernelspec": {
   "display_name": "Python 3 (ipykernel)",
   "language": "python",
   "name": "python3"
  },
  "language_info": {
   "codemirror_mode": {
    "name": "ipython",
    "version": 3
   },
   "file_extension": ".py",
   "mimetype": "text/x-python",
   "name": "python",
   "nbconvert_exporter": "python",
   "pygments_lexer": "ipython3",
   "version": "3.13.5"
  }
 },
 "nbformat": 4,
 "nbformat_minor": 5
}
