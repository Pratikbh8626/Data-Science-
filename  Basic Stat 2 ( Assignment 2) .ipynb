{
 "cells": [
  {
   "cell_type": "markdown",
   "id": "b8a35b77-5484-45fb-adea-688b17e53bf6",
   "metadata": {},
   "source": [
    "## Import libraries"
   ]
  },
  {
   "cell_type": "code",
   "execution_count": 1,
   "id": "83998e60-d45a-4a91-bb10-aea282e5f01a",
   "metadata": {},
   "outputs": [],
   "source": [
    "import numpy as np\n",
    "import scipy.stats as stats"
   ]
  },
  {
   "cell_type": "markdown",
   "id": "c681e060-c639-4dc0-86c4-8b963fbf5b36",
   "metadata": {},
   "source": [
    "## Data"
   ]
  },
  {
   "cell_type": "code",
   "execution_count": 11,
   "id": "f825d244-2bc3-4844-95d6-9a779f8cb4db",
   "metadata": {},
   "outputs": [],
   "source": [
    "df = np.array([1.13, 1.55, 1.43, 0.92, 1.25, 1.36, 1.32, 0.85, 1.07, 1.48, \n",
    "                 1.20, 1.33, 1.18, 1.22, 1.29])"
   ]
  },
  {
   "cell_type": "code",
   "execution_count": 10,
   "id": "b92b713e-195a-4557-8ba0-3b1d0caf41e0",
   "metadata": {},
   "outputs": [
    {
     "data": {
      "text/plain": [
       "array([1.13, 1.55, 1.43, 0.92, 1.25, 1.36, 1.32, 0.85, 1.07, 1.48, 1.2 ,\n",
       "       1.33, 1.18, 1.22, 1.29])"
      ]
     },
     "execution_count": 10,
     "metadata": {},
     "output_type": "execute_result"
    }
   ],
   "source": [
    "df"
   ]
  },
  {
   "cell_type": "code",
   "execution_count": 4,
   "id": "7ad767c5-8096-4111-92b2-fef86e25f30f",
   "metadata": {},
   "outputs": [
    {
     "data": {
      "text/plain": [
       "15"
      ]
     },
     "execution_count": 4,
     "metadata": {},
     "output_type": "execute_result"
    }
   ],
   "source": [
    "n=len(df)\n",
    "n"
   ]
  },
  {
   "cell_type": "code",
   "execution_count": 5,
   "id": "88f51397-085b-4b3b-9e5b-380f75a56005",
   "metadata": {},
   "outputs": [],
   "source": [
    "confidence=0.99"
   ]
  },
  {
   "cell_type": "code",
   "execution_count": 6,
   "id": "927e0655-039e-458c-a642-0e62ae943684",
   "metadata": {},
   "outputs": [
    {
     "name": "stdout",
     "output_type": "stream",
     "text": [
      "Sample Mean = 1.239\n"
     ]
    }
   ],
   "source": [
    "mean=np.mean(df)\n",
    "print(f\"Sample Mean = {mean:.3f}\")"
   ]
  },
  {
   "cell_type": "code",
   "execution_count": 7,
   "id": "41fac823-8b3a-40ce-ae2f-9b8b96d8c74a",
   "metadata": {},
   "outputs": [
    {
     "name": "stdout",
     "output_type": "stream",
     "text": [
      "Sample Std Dev = 0.193\n"
     ]
    }
   ],
   "source": [
    "std_sample = np.std(df, ddof=1)\n",
    "print(f\"Sample Std Dev = {std_sample:.3f}\")"
   ]
  },
  {
   "cell_type": "markdown",
   "id": "79890f1a-997b-45a1-9fd1-25f102b4786a",
   "metadata": {},
   "source": [
    "## a. Build 99% Confidence Interval Using Sample Standard Deviation"
   ]
  },
  {
   "cell_type": "code",
   "execution_count": 8,
   "id": "34215782-0d03-4354-81ee-90611e9dcc0c",
   "metadata": {},
   "outputs": [
    {
     "name": "stdout",
     "output_type": "stream",
     "text": [
      "\n",
      "(a) 99% Confidence Interval using Sample Std Dev (t-distribution):\n",
      "CI = (1.09, 1.39)\n"
     ]
    }
   ],
   "source": [
    "alpha = 1 - confidence\n",
    "t_critical = stats.t.ppf(1 - alpha/2, df=n-1)\n",
    "margin_of_error_a = t_critical * (std_sample / np.sqrt(n))\n",
    "\n",
    "ci_lower_a = mean - margin_of_error_a\n",
    "ci_upper_a = mean + margin_of_error_a\n",
    "\n",
    "print(\"\\n(a) 99% Confidence Interval using Sample Std Dev (t-distribution):\")\n",
    "print(f\"CI = ({ci_lower_a:.2f}, {ci_upper_a:.2f})\")\n"
   ]
  },
  {
   "cell_type": "markdown",
   "id": "e3ec0d1b-774f-4136-b270-808a6d6b2e12",
   "metadata": {},
   "source": [
    "## b. Build 99% Confidence Interval Using Known Population Standard Deviation"
   ]
  },
  {
   "cell_type": "code",
   "execution_count": 9,
   "id": "f5802934-0947-44ee-b5a5-c5a39cd5f687",
   "metadata": {},
   "outputs": [
    {
     "name": "stdout",
     "output_type": "stream",
     "text": [
      "\n",
      "(b) 99% Confidence Interval using  Population Std Dev (z-distribution):\n",
      "CI = (1.11, 1.37)\n"
     ]
    }
   ],
   "source": [
    "pop_std_dev = 0.2\n",
    "z_critical = stats.norm.ppf(1 - alpha/2)\n",
    "margin_of_error_b = z_critical * (pop_std_dev / np.sqrt(n))\n",
    "\n",
    "ci_lower_b = mean - margin_of_error_b\n",
    "ci_upper_b = mean + margin_of_error_b\n",
    "\n",
    "print(\"\\n(b) 99% Confidence Interval using  Population Std Dev (z-distribution):\")\n",
    "print(f\"CI = ({ci_lower_b:.2f}, {ci_upper_b:.2f})\")"
   ]
  },
  {
   "cell_type": "code",
   "execution_count": null,
   "id": "4f2811ca-b84f-4cc5-add3-26479edc1e22",
   "metadata": {},
   "outputs": [],
   "source": []
  }
 ],
 "metadata": {
  "kernelspec": {
   "display_name": "Python 3 (ipykernel)",
   "language": "python",
   "name": "python3"
  },
  "language_info": {
   "codemirror_mode": {
    "name": "ipython",
    "version": 3
   },
   "file_extension": ".py",
   "mimetype": "text/x-python",
   "name": "python",
   "nbconvert_exporter": "python",
   "pygments_lexer": "ipython3",
   "version": "3.13.5"
  }
 },
 "nbformat": 4,
 "nbformat_minor": 5
}
