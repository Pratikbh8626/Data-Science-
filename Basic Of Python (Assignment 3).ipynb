{
 "cells": [
  {
   "cell_type": "code",
   "execution_count": 1,
   "id": "d16badb5-912e-4c14-999e-6212d7bdfa2c",
   "metadata": {},
   "outputs": [],
   "source": [
    "import math\n",
    "import random\n",
    "import string"
   ]
  },
  {
   "cell_type": "markdown",
   "id": "7720879f-535a-4be0-abee-5bdd931715ac",
   "metadata": {},
   "source": [
    "## Prime Number"
   ]
  },
  {
   "cell_type": "code",
   "execution_count": 7,
   "id": "7bbcf007-92d2-4061-8523-029c3b6bd24d",
   "metadata": {},
   "outputs": [
    {
     "name": "stdin",
     "output_type": "stream",
     "text": [
      "Enter a number to check if it's prime:  97\n"
     ]
    },
    {
     "name": "stdout",
     "output_type": "stream",
     "text": [
      "97 is a prime number.\n"
     ]
    }
   ],
   "source": [
    "def is_prime(num):\n",
    "    if num <= 1:\n",
    "        return False\n",
    "    elif num == 2:\n",
    "        return True\n",
    "    elif num % 2 == 0:\n",
    "        return False\n",
    "\n",
    "# Only check up to the square root of the number\n",
    "    for i in range(3, int(num**0.5) + 1, 2):\n",
    "        if num % i == 0:\n",
    "            return False\n",
    "    return True\n",
    "\n",
    "# Input from the user\n",
    "number = int(input(\"Enter a number to check if it's prime: \"))\n",
    "\n",
    "if is_prime(number):\n",
    "    print(f\"{number} is a prime number.\")\n",
    "else:\n",
    "    print(f\"{number} is not a prime number.\")\n"
   ]
  },
  {
   "cell_type": "markdown",
   "id": "8b36debf-c7c1-4864-9d26-2f7a3d93082d",
   "metadata": {},
   "source": [
    "## Product of Random Numbers"
   ]
  },
  {
   "cell_type": "code",
   "execution_count": 12,
   "id": "3c4b68ba-add3-4fa1-9f97-d35371f9b102",
   "metadata": {},
   "outputs": [
    {
     "name": "stdout",
     "output_type": "stream",
     "text": [
      "What is 3 × 6\n"
     ]
    },
    {
     "name": "stdin",
     "output_type": "stream",
     "text": [
      "Your answer:  18\n"
     ]
    },
    {
     "name": "stdout",
     "output_type": "stream",
     "text": [
      "Your Answer is correct.\n"
     ]
    }
   ],
   "source": [
    "# Generate two random numbers between 1 and 20\n",
    "num1 = random.randint(1, 20)\n",
    "num2 = random.randint(1, 20)\n",
    "\n",
    "# Ask the user for the product\n",
    "print(f\"What is {num1} × {num2}\")\n",
    "user_answer = int(input(\"Your answer: \"))\n",
    "\n",
    "# Calculate the correct answer\n",
    "correct_answer = num1 * num2\n",
    "\n",
    "# Check and display result\n",
    "if user_answer == correct_answer:\n",
    "    print(\"Your Answer is correct.\")\n",
    "else:\n",
    "    print(f\"Your answer is Incorrect. The correct answer is {correct_answer}.\")\n",
    "\n",
    "\n"
   ]
  },
  {
   "cell_type": "markdown",
   "id": "bc575f6f-b627-4007-919f-f2fd2b27be20",
   "metadata": {},
   "source": [
    "##  Squares of Even/Odd Numbers"
   ]
  },
  {
   "cell_type": "code",
   "execution_count": 9,
   "id": "082ca660-68ca-4dfe-9992-ae8515529623",
   "metadata": {},
   "outputs": [
    {
     "name": "stdout",
     "output_type": "stream",
     "text": [
      "101^2 = 10201\n",
      "103^2 = 10609\n",
      "105^2 = 11025\n",
      "107^2 = 11449\n",
      "109^2 = 11881\n",
      "111^2 = 12321\n",
      "113^2 = 12769\n",
      "115^2 = 13225\n",
      "117^2 = 13689\n",
      "119^2 = 14161\n",
      "121^2 = 14641\n",
      "123^2 = 15129\n",
      "125^2 = 15625\n",
      "127^2 = 16129\n",
      "129^2 = 16641\n",
      "131^2 = 17161\n",
      "133^2 = 17689\n",
      "135^2 = 18225\n",
      "137^2 = 18769\n",
      "139^2 = 19321\n",
      "141^2 = 19881\n",
      "143^2 = 20449\n",
      "145^2 = 21025\n",
      "147^2 = 21609\n",
      "149^2 = 22201\n",
      "151^2 = 22801\n",
      "153^2 = 23409\n",
      "155^2 = 24025\n",
      "157^2 = 24649\n",
      "159^2 = 25281\n",
      "161^2 = 25921\n",
      "163^2 = 26569\n",
      "165^2 = 27225\n",
      "167^2 = 27889\n",
      "169^2 = 28561\n",
      "171^2 = 29241\n",
      "173^2 = 29929\n",
      "175^2 = 30625\n",
      "177^2 = 31329\n",
      "179^2 = 32041\n",
      "181^2 = 32761\n",
      "183^2 = 33489\n",
      "185^2 = 34225\n",
      "187^2 = 34969\n",
      "189^2 = 35721\n",
      "191^2 = 36481\n",
      "193^2 = 37249\n",
      "195^2 = 38025\n",
      "197^2 = 38809\n",
      "199^2 = 39601\n"
     ]
    }
   ],
   "source": [
    "# Python code for squares of odd numbers between 100 to 200.\n",
    "\n",
    "for number in range(100, 201):\n",
    "    # Check if the number is odd\n",
    "    if number % 2 != 0:\n",
    "        square = number ** 2\n",
    "        print(f\"{number}^2 = {square}\")\n"
   ]
  },
  {
   "cell_type": "markdown",
   "id": "90b527c8-aca2-4bc9-940a-5d1468e0a7cd",
   "metadata": {},
   "source": [
    "## Word counter"
   ]
  },
  {
   "cell_type": "code",
   "execution_count": 11,
   "id": "d13edb33-9374-4899-b09e-10d69097b440",
   "metadata": {},
   "outputs": [
    {
     "name": "stdout",
     "output_type": "stream",
     "text": [
      "'this': 2\n",
      "'is': 1\n",
      "'a': 1\n",
      "'sample': 1\n",
      "'text': 2\n",
      "'will': 1\n",
      "'be': 1\n",
      "'used': 1\n",
      "'to': 1\n",
      "'demonstrate': 1\n",
      "'the': 1\n",
      "'word': 1\n",
      "'counter': 1\n"
     ]
    }
   ],
   "source": [
    "from collections import Counter\n",
    "\n",
    "input_text = \"This is a sample text. This text will be used to demonstrate the word counter.\"\n",
    "\n",
    "import string\n",
    "cleaned_text = input_text.lower().translate(str.maketrans('', '', string.punctuation))\n",
    "\n",
    "words = cleaned_text.split()\n",
    "\n",
    "word_counts = Counter(words)\n",
    "\n",
    "for word, count in word_counts.items():\n",
    "    print(f\"'{word}': {count}\")\n"
   ]
  },
  {
   "cell_type": "markdown",
   "id": "b8feca46-5a5e-43cf-9929-18bfd684966c",
   "metadata": {},
   "source": [
    "## Check for Palindrome"
   ]
  },
  {
   "cell_type": "code",
   "execution_count": 15,
   "id": "55e8e747-23a2-45a5-8283-2d8de4585a43",
   "metadata": {},
   "outputs": [
    {
     "name": "stdin",
     "output_type": "stream",
     "text": [
      "Enter the string 121\n"
     ]
    },
    {
     "name": "stdout",
     "output_type": "stream",
     "text": [
      "True\n"
     ]
    }
   ],
   "source": [
    "def is_palindrome(text):\n",
    "    \n",
    "    cleaned = ''.join(char.lower() for char in text if char.isalnum())\n",
    "    \n",
    "    return cleaned == cleaned[::-1]\n",
    "    \n",
    "input_text =input(\"Enter the string\")\n",
    "print(is_palindrome(input_text))"
   ]
  },
  {
   "cell_type": "code",
   "execution_count": null,
   "id": "81aaf84f-ad86-43fd-a2a3-f52d4106bb87",
   "metadata": {},
   "outputs": [],
   "source": []
  }
 ],
 "metadata": {
  "kernelspec": {
   "display_name": "Python 3 (ipykernel)",
   "language": "python",
   "name": "python3"
  },
  "language_info": {
   "codemirror_mode": {
    "name": "ipython",
    "version": 3
   },
   "file_extension": ".py",
   "mimetype": "text/x-python",
   "name": "python",
   "nbconvert_exporter": "python",
   "pygments_lexer": "ipython3",
   "version": "3.13.5"
  }
 },
 "nbformat": 4,
 "nbformat_minor": 5
}
